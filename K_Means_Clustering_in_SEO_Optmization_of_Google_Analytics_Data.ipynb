{
  "nbformat": 4,
  "nbformat_minor": 0,
  "metadata": {
    "colab": {
      "provenance": []
    },
    "kernelspec": {
      "name": "python3",
      "display_name": "Python 3"
    },
    "language_info": {
      "name": "python"
    }
  },
  "cells": [
    {
      "cell_type": "code",
      "execution_count": 13,
      "metadata": {
        "colab": {
          "base_uri": "https://localhost:8080/"
        },
        "id": "KLHrOP4N6ZWb",
        "outputId": "0f519320-72ac-4c58-bd8e-29e516a196ac"
      },
      "outputs": [
        {
          "output_type": "stream",
          "name": "stdout",
          "text": [
            "Drive already mounted at /content/drive; to attempt to forcibly remount, call drive.mount(\"/content/drive\", force_remount=True).\n"
          ]
        }
      ],
      "source": [
        "from google.colab import drive\n",
        "drive.mount('/content/drive')\n"
      ]
    },
    {
      "cell_type": "markdown",
      "source": [
        "**GETTING DATA**"
      ],
      "metadata": {
        "id": "3f4N9elGE6IB"
      }
    },
    {
      "cell_type": "code",
      "source": [
        "import pandas as pd\n",
        "\n",
        "userdata=  pd.read_csv(\"/content/drive/MyDrive/Test/data-export.csv\")\n",
        "\n",
        "# print(userdata.head(10))\n",
        "# print(userdata.columns)\n",
        "\n",
        "user_behavior_data= userdata[['Page path and screen class', 'Views',\n",
        "        'Average engagement time per active user',\n",
        "       'Event count']]\n",
        "# print(user_behavior_data.head(10))\n"
      ],
      "metadata": {
        "id": "qI_QYv6t8qb_"
      },
      "execution_count": 14,
      "outputs": []
    },
    {
      "cell_type": "code",
      "source": [
        "!pip install -U scikit-learn\n",
        "!pip install -U pandas\n",
        "!pip install opempyxl"
      ],
      "metadata": {
        "colab": {
          "base_uri": "https://localhost:8080/"
        },
        "id": "3Q_iSAgy-mNH",
        "outputId": "c88e273c-aaf7-4c4a-b9da-508f8a8ffe4a"
      },
      "execution_count": 15,
      "outputs": [
        {
          "output_type": "stream",
          "name": "stdout",
          "text": [
            "Requirement already satisfied: scikit-learn in /usr/local/lib/python3.10/dist-packages (1.5.2)\n",
            "Requirement already satisfied: numpy>=1.19.5 in /usr/local/lib/python3.10/dist-packages (from scikit-learn) (1.26.4)\n",
            "Requirement already satisfied: scipy>=1.6.0 in /usr/local/lib/python3.10/dist-packages (from scikit-learn) (1.13.1)\n",
            "Requirement already satisfied: joblib>=1.2.0 in /usr/local/lib/python3.10/dist-packages (from scikit-learn) (1.4.2)\n",
            "Requirement already satisfied: threadpoolctl>=3.1.0 in /usr/local/lib/python3.10/dist-packages (from scikit-learn) (3.5.0)\n",
            "Requirement already satisfied: pandas in /usr/local/lib/python3.10/dist-packages (2.2.2)\n",
            "Requirement already satisfied: numpy>=1.22.4 in /usr/local/lib/python3.10/dist-packages (from pandas) (1.26.4)\n",
            "Requirement already satisfied: python-dateutil>=2.8.2 in /usr/local/lib/python3.10/dist-packages (from pandas) (2.8.2)\n",
            "Requirement already satisfied: pytz>=2020.1 in /usr/local/lib/python3.10/dist-packages (from pandas) (2024.2)\n",
            "Requirement already satisfied: tzdata>=2022.7 in /usr/local/lib/python3.10/dist-packages (from pandas) (2024.1)\n",
            "Requirement already satisfied: six>=1.5 in /usr/local/lib/python3.10/dist-packages (from python-dateutil>=2.8.2->pandas) (1.16.0)\n",
            "\u001b[31mERROR: Could not find a version that satisfies the requirement opempyxl (from versions: none)\u001b[0m\u001b[31m\n",
            "\u001b[0m\u001b[31mERROR: No matching distribution found for opempyxl\u001b[0m\u001b[31m\n",
            "\u001b[0m"
          ]
        }
      ]
    },
    {
      "cell_type": "markdown",
      "source": [
        "**FEEDING DATA INTO MODEL**"
      ],
      "metadata": {
        "id": "vHtHFoU_E_X9"
      }
    },
    {
      "cell_type": "code",
      "source": [
        "from sklearn.cluster import KMeans\n",
        "from sklearn.preprocessing import StandardScaler\n",
        "\n",
        "model_features= user_behavior_data[[ 'Views',\n",
        "        'Average engagement time per active user',\n",
        "       'Event count']]\n",
        "\n",
        "scaled_model_features= StandardScaler().fit_transform(model_features)\n",
        "\n",
        "kmeans= KMeans(n_clusters=5,random_state=42)\n",
        "kmeans.fit(scaled_model_features)\n",
        "\n",
        "userdata['Cluster Number']= kmeans.labels_\n",
        "\n",
        "# print(userdata.head(10))\n",
        "clustered_data= userdata.groupby('Cluster Number')[[ 'Views',\n",
        "        'Average engagement time per active user',\n",
        "       'Event count']].mean()\n",
        "\n",
        "# print(clustered_data)\n",
        "userdata.to_excel((\"/content/drive/MyDrive/Test/clustered_data.xlsx\"))\n",
        "print(\"Data has been successfuly clustered\")"
      ],
      "metadata": {
        "colab": {
          "base_uri": "https://localhost:8080/"
        },
        "id": "P3SIssqp83qX",
        "outputId": "648e7e1a-1bd6-4762-c92b-e529a4868168"
      },
      "execution_count": 16,
      "outputs": [
        {
          "output_type": "stream",
          "name": "stdout",
          "text": [
            "Data has been successfuly clustered\n"
          ]
        }
      ]
    },
    {
      "cell_type": "code",
      "source": [],
      "metadata": {
        "id": "5ABqr-gEAFAb"
      },
      "execution_count": 16,
      "outputs": []
    }
  ]
}